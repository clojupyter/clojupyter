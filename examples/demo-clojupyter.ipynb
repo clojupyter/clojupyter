{
 "cells": [
  {
   "cell_type": "markdown",
   "metadata": {},
   "source": [
    "# Clojupyter - Clojure in Jupyter Lab, Notebook, and Console"
   ]
  },
  {
   "cell_type": "markdown",
   "metadata": {},
   "source": [
    "This notebook demonstrates some of the features of Clojupyter.  Things that are shown here should work in both Jupyter Lab *and* Jupyter Notebook (and some of it in Jupyter Console as well, but since Clojure has the REPL we usually don't think very much about Console).\n",
    "\n",
    "Jupyter Lab and Jupyter Notebook are different in some respects, this notebook only shows features that work in both.  There are separate demo notebooks showing clojupyter's support for features that are specific to either Lab or Notebook."
   ]
  },
  {
   "cell_type": "markdown",
   "metadata": {},
   "source": [
    "## Basics: Evaluating Clojure expressions\n",
    "\n",
    "Clojupyter basically lets you evaluate Clojure expressions from a Jupyter notebook, at its most fundament it is not unlike a regular Clojure REPL:"
   ]
  },
  {
   "cell_type": "code",
   "execution_count": null,
   "metadata": {},
   "outputs": [],
   "source": [
    "(time (reduce + (range 1000)))"
   ]
  },
  {
   "cell_type": "markdown",
   "metadata": {},
   "source": [
    "Note above that we both see the side-effects of printing *and* the result of evaluating the expression.  Let's see which version of Clojure and clojupyter we're using:"
   ]
  },
  {
   "cell_type": "code",
   "execution_count": null,
   "metadata": {},
   "outputs": [],
   "source": [
    "(println (str \"Date:\\t\\t\\t\" (java.util.Date.)))\n",
    "(println (apply format \"Clojure version:\\tv%d.%d\" ((juxt :major :minor) *clojure-version*)))\n",
    "(println (str \"Clojupyter version:\\t\" clojupyter/version))\n",
    ";"
   ]
  },
  {
   "cell_type": "markdown",
   "metadata": {},
   "source": [
    "The **semicolon** at the end of the cell tells clojupyter not to print the result of evaluating the cell which is useful when we're only interested in side-effects such as loading libraries. In this instance the semicolon appears on its own line which is not necessary, as long as the semicolon is the last non-whitespace character it will have the effect of suppressing printing of the cell evaluation result."
   ]
  },
  {
   "cell_type": "markdown",
   "metadata": {},
   "source": [
    "## Rich content at your fingertips"
   ]
  },
  {
   "cell_type": "markdown",
   "metadata": {},
   "source": [
    "### Hiccup"
   ]
  },
  {
   "cell_type": "markdown",
   "metadata": {},
   "source": [
    "We can use [Hiccup](https://github.com/weavejester/hiccup) to render HTML.  To do this conveniently, we first add convenient access to the `clojupyter.display` namespace usng the alias `display`:"
   ]
  },
  {
   "cell_type": "code",
   "execution_count": null,
   "metadata": {},
   "outputs": [],
   "source": [
    "(require '[clojupyter.display :as display])"
   ]
  },
  {
   "cell_type": "markdown",
   "metadata": {},
   "source": [
    "which gives us convenient access to generating formatted output using HTML:"
   ]
  },
  {
   "cell_type": "code",
   "execution_count": null,
   "metadata": {},
   "outputs": [],
   "source": [
    ";; displaying html\n",
    "(display/hiccup\n",
    "    [:ul \n",
    "     [:li \"an \" [:i \"emphatic\"] \" idea\"]\n",
    "     [:li \"a \" [:b \"bold\"] \" idea\"]\n",
    "     [:li \"an \" [:span {:style \"text-decoration: underline;\"} \"important\"] \" idea\"]])"
   ]
  },
  {
   "cell_type": "markdown",
   "metadata": {},
   "source": [
    "which works for Scalable Vector Graphics (SVG) as well:"
   ]
  },
  {
   "cell_type": "code",
   "execution_count": null,
   "metadata": {},
   "outputs": [],
   "source": [
    "(display/hiccup\n",
    "    [:svg {:height 100 :width 100 :xmlns \"http://www.w3.org/2000/svg\"}\n",
    "            [:circle {:cx 50 :cy 40 :r 40 :fill \"red\"}]])"
   ]
  },
  {
   "cell_type": "markdown",
   "metadata": {},
   "source": [
    "### HTML"
   ]
  },
  {
   "cell_type": "markdown",
   "metadata": {},
   "source": [
    "We can also render html strings directly:"
   ]
  },
  {
   "cell_type": "code",
   "execution_count": null,
   "metadata": {},
   "outputs": [],
   "source": [
    "(display/html \"<p style=\\\"color:red\\\">Hello world!</p>\")"
   ]
  },
  {
   "cell_type": "markdown",
   "metadata": {},
   "source": [
    "### Markdown"
   ]
  },
  {
   "cell_type": "code",
   "execution_count": null,
   "metadata": {},
   "outputs": [],
   "source": [
    "(display/markdown \"\n",
    "**TO DO:**                  \n",
    "* [X] Install **Clojupyter**.\n",
    "* [ ] Build something *cool*.\n",
    "* [ ] ???\n",
    "* [ ] Profit!\")"
   ]
  },
  {
   "cell_type": "markdown",
   "metadata": {},
   "source": [
    "Overall, we have very direct access to controlling what is displayed by Jupyter:"
   ]
  },
  {
   "cell_type": "code",
   "execution_count": null,
   "metadata": {},
   "outputs": [],
   "source": [
    "(display/render-mime \"text/plain\" \"This is plain text.\")"
   ]
  },
  {
   "cell_type": "code",
   "execution_count": null,
   "metadata": {},
   "outputs": [],
   "source": [
    "(display/render-mime \"text/html\" \"<h1>This is a heading</h1>\")"
   ]
  },
  {
   "cell_type": "markdown",
   "metadata": {},
   "source": [
    "And we have all the facilities of Clojure at our disposal for generating the content in the notebook!"
   ]
  },
  {
   "cell_type": "markdown",
   "metadata": {},
   "source": [
    "### Images"
   ]
  },
  {
   "cell_type": "markdown",
   "metadata": {},
   "source": [
    "We also have direct access to displaying bitmaps, here a clokupyter logo:"
   ]
  },
  {
   "cell_type": "code",
   "execution_count": null,
   "metadata": {
    "scrolled": true
   },
   "outputs": [],
   "source": [
    "(->> clojupyter/logo type (str \"Logo is of type: \") println)\n",
    "clojupyter/logo"
   ]
  },
  {
   "cell_type": "markdown",
   "metadata": {},
   "source": [
    "Helper function to read bytes from uri string"
   ]
  },
  {
   "cell_type": "code",
   "execution_count": null,
   "metadata": {},
   "outputs": [],
   "source": [
    "(defn slurp-bytes\n",
    "  \"Slurp the bytes from a slurpable thing\"\n",
    "  [x]\n",
    "  (with-open [out (java.io.ByteArrayOutputStream.)]\n",
    "    (clojure.java.io/copy (clojure.java.io/input-stream x) out)\n",
    "    (.toByteArray out)))"
   ]
  },
  {
   "cell_type": "markdown",
   "metadata": {},
   "source": [
    "GIF"
   ]
  },
  {
   "cell_type": "code",
   "execution_count": null,
   "metadata": {},
   "outputs": [],
   "source": [
    "(-> \"https://upload.wikimedia.org/wikipedia/commons/d/d3/Newtons_cradle_animation_book_2.gif\"\n",
    "    slurp-bytes\n",
    "    display/gif)"
   ]
  },
  {
   "cell_type": "markdown",
   "metadata": {},
   "source": [
    "We have no custom converters for all image types, but custom ones can be created using `clojure.display/render-mime`. To render the image correctly, we need to convert the byte array to a base64 encoded string."
   ]
  },
  {
   "cell_type": "code",
   "execution_count": null,
   "metadata": {},
   "outputs": [],
   "source": [
    "(display/render-mime :image/png\n",
    "   (-> \"../resources/clojupyter/assets/logo-64x64.png\"\n",
    "       slurp-bytes\n",
    "       clojure.data.codec.base64/encode\n",
    "       String.))"
   ]
  },
  {
   "cell_type": "markdown",
   "metadata": {},
   "source": [
    "## Using external Clojure libraries"
   ]
  },
  {
   "cell_type": "markdown",
   "metadata": {},
   "source": [
    "You can fetch external Clojure dependencies using `add-dependencies` in the namespace `clojupyter.misc.helper`:"
   ]
  },
  {
   "cell_type": "code",
   "execution_count": null,
   "metadata": {},
   "outputs": [],
   "source": [
    "(require '[clojupyter.misc.helper :as helper])\n",
    "(helper/add-dependencies '[incanter \"1.5.7\"])\n",
    "(use '(incanter core stats charts io)) ; include Incanter's facilities into working namespace\n",
    ":ok"
   ]
  },
  {
   "cell_type": "markdown",
   "metadata": {},
   "source": [
    "## Example: Plotting using Incanter\n",
    "\n",
    "As shown above, clojupyter display bitmaps directly when [BufferedImage](https://docs.oracle.com/javase/7/docs/api/java/awt/image/BufferedImage.html) are returned. This makes it easy to use Java charting libraries, such as [Incanter](https://github.com/incanter/incanter), where charts are easily converted into a bitmaps. Since Incanter simply wraps the Java charting library [JFreeChart](https://github.com/incanter/incanter), we can call \n",
    "`(.createBufferedImage chart width height)` on any Incanter chart to get an image we can render as cell output:"
   ]
  },
  {
   "cell_type": "code",
   "execution_count": null,
   "metadata": {},
   "outputs": [],
   "source": [
    "(-> (sample-normal 10000)\n",
    "    histogram\n",
    "    (.createBufferedImage 600 400))"
   ]
  },
  {
   "cell_type": "markdown",
   "metadata": {},
   "source": [
    "Here's an example of a scatter plot:"
   ]
  },
  {
   "cell_type": "code",
   "execution_count": null,
   "metadata": {},
   "outputs": [],
   "source": [
    "(-> (scatter-plot (sample-normal 1000) \n",
    "                  (sample-normal 1000)\n",
    "                  :x-label \"x\" :y-label \"y\")\n",
    "    (.createBufferedImage 600 400)) "
   ]
  },
  {
   "cell_type": "raw",
   "metadata": {},
   "source": [
    "See the other demo notebooks to see features specific to either Jupyter Lab or Jupyter Notebook."
   ]
  },
  {
   "cell_type": "markdown",
   "metadata": {},
   "source": [
    "And with a very liberal license, you can do pretty much whatever you want with clojupyter:"
   ]
  },
  {
   "cell_type": "code",
   "execution_count": null,
   "metadata": {},
   "outputs": [],
   "source": [
    "clojupyter/license"
   ]
  },
  {
   "cell_type": "markdown",
   "metadata": {},
   "source": [
    "**We hope you'll enjoy clojupyter!**"
   ]
  }
 ],
 "metadata": {
  "kernelspec": {
   "display_name": "Clojure (clojupyter-0.4.0)",
   "language": "clojure",
   "name": "clojupyter-0.4.0"
  },
  "language_info": {
   "file_extension": ".clj",
   "mimetype": "text/x-clojure",
   "name": "clojure",
   "version": "1.10.1"
  },
  "toc": {
   "base_numbering": 1,
   "nav_menu": {},
   "number_sections": false,
   "sideBar": false,
   "skip_h1_title": false,
   "title_cell": "Table of Contents",
   "title_sidebar": "Contents",
   "toc_cell": false,
   "toc_position": {},
   "toc_section_display": false,
   "toc_window_display": false
  },
  "widgets": {
   "application/vnd.jupyter.widget-state+json": {
    "state": {},
    "version_major": 2,
    "version_minor": 0
   }
  }
 },
 "nbformat": 4,
 "nbformat_minor": 4
}
