{
 "cells": [
  {
   "cell_type": "markdown",
   "metadata": {},
   "source": [
    "# Demo notebook: Clojupyter in Jupyter Lab"
   ]
  },
  {
   "cell_type": "markdown",
   "metadata": {},
   "source": [
    "This notebook demonstrates some features of Clojupyter for Jupyter Lab.  Please note that this notebook is intended to be used with **Jupyter Lab**.\n"
   ]
  },
  {
   "cell_type": "code",
   "execution_count": null,
   "metadata": {},
   "outputs": [],
   "source": [
    "(require '[clojupyter.display :as display])\n",
    "(require '[cheshire.core :as json])\n",
    "(require '[clojure.data.codec.base64 :as b64])\n",
    ":ok"
   ]
  },
  {
   "cell_type": "markdown",
   "metadata": {},
   "source": [
    "Helper function to read bytes from uri string"
   ]
  },
  {
   "cell_type": "code",
   "execution_count": null,
   "metadata": {},
   "outputs": [],
   "source": [
    "(defn slurp-bytes\n",
    "  \"Slurp the bytes from a slurpable thing\"\n",
    "  [x]\n",
    "  (with-open [out (java.io.ByteArrayOutputStream.)]\n",
    "    (clojure.java.io/copy (clojure.java.io/input-stream x) out)\n",
    "    (.toByteArray out)))"
   ]
  },
  {
   "cell_type": "markdown",
   "metadata": {},
   "source": [
    "## Vega Lite\n",
    "For this demo we define some simple functions generating some data compatible with the high-level  charting library:"
   ]
  },
  {
   "cell_type": "code",
   "execution_count": null,
   "metadata": {},
   "outputs": [],
   "source": [
    "(defn datapt [[s n]] {:Index s, :Value n})\n",
    "(defn graph  [vs]    {:data {:values vs}, \n",
    "                      :mark :line\n",
    "                      :width 600\n",
    "                      :height 400\n",
    "                      :encoding {:x {:field :Index :type :ordinal}\n",
    "                                 :y {:field :Value :type :quantitative}}\n",
    "                      :$schema \"https://vega.github.io/schema/vega-lite/v3.json\"})\n",
    "(def graph-it (comp graph (partial map datapt) (partial apply map vector)));"
   ]
  },
  {
   "cell_type": "markdown",
   "metadata": {},
   "source": [
    "With a generator for (slightly) random data..."
   ]
  },
  {
   "cell_type": "code",
   "execution_count": null,
   "metadata": {},
   "outputs": [],
   "source": [
    "(defn raw-data [] (map #(+ % (rand-int 25)) (range)))"
   ]
  },
  {
   "cell_type": "markdown",
   "metadata": {},
   "source": [
    "...we can create a graph using Vega Lite:"
   ]
  },
  {
   "cell_type": "code",
   "execution_count": null,
   "metadata": {},
   "outputs": [],
   "source": [
    "(->> [(range) (take 180 (raw-data))] graph-it display/vega-lite)"
   ]
  },
  {
   "cell_type": "markdown",
   "metadata": {},
   "source": [
    "**Note**: The above cell is *not* supposed to render correctly in Jupyter Notebook, <font color=red>**only Jupyter Lab**</font>."
   ]
  },
  {
   "cell_type": "markdown",
   "metadata": {},
   "source": [
    "## Vega\n",
    "The Vega spec is overly verbose and generating one by hand is outside the scope of this demo. Clojupyter can render Clojure maps that serialize to Vega JSON spec using `clojupyter.display/vega`."
   ]
  },
  {
   "cell_type": "code",
   "execution_count": null,
   "metadata": {},
   "outputs": [],
   "source": [
    "(-> \"https://raw.githubusercontent.com/vega/vega/master/docs/examples/bar-chart.vg.json\" slurp json/parse-string display/vega-lite)"
   ]
  },
  {
   "cell_type": "markdown",
   "metadata": {},
   "source": [
    "**Jupyter Lab** supports other mime types by default:\n",
    "* `:text/markdown` `:text/latex`\n",
    "* `:image/bmp` `:image/gif` `:image/jpeg` `:image/png` `:image/svg+xml`\n",
    "* `:application/json` `:application/pdf` `:application/vdom.v1+json`"
   ]
  },
  {
   "cell_type": "markdown",
   "metadata": {},
   "source": [
    "## JSON\n",
    "Clojure maps that can be serialized to JSON can be viewed as `:application/json`"
   ]
  },
  {
   "cell_type": "code",
   "execution_count": null,
   "metadata": {},
   "outputs": [],
   "source": [
    "(display/json {:name \"JSON Map\" :fields [{:name \"Field0\" :position 0} {:name \"Field1\" :position 1}]})"
   ]
  },
  {
   "cell_type": "markdown",
   "metadata": {},
   "source": [
    "## VDom\n",
    "VDom, short for Virtual Dom is a way to generate html content from JSON maps."
   ]
  },
  {
   "cell_type": "code",
   "execution_count": null,
   "metadata": {},
   "outputs": [],
   "source": [
    "(display/vdom {:tagName :p :attributes {:style {:color :red}} :children \"Hello World!\"})"
   ]
  },
  {
   "cell_type": "code",
   "execution_count": null,
   "metadata": {},
   "outputs": [],
   "source": []
  },
  {
   "cell_type": "code",
   "execution_count": null,
   "metadata": {},
   "outputs": [],
   "source": []
  }
 ],
 "metadata": {
  "kernelspec": {
   "display_name": "Clojure (clojupyter-0.4.0)",
   "language": "clojure",
   "name": "clojupyter-0.4.0"
  },
  "language_info": {
   "file_extension": ".clj",
   "mimetype": "text/x-clojure",
   "name": "clojure",
   "version": "1.10.1"
  },
  "toc": {
   "base_numbering": 1,
   "nav_menu": {},
   "number_sections": false,
   "sideBar": false,
   "skip_h1_title": false,
   "title_cell": "Table of Contents",
   "title_sidebar": "Contents",
   "toc_cell": false,
   "toc_position": {},
   "toc_section_display": false,
   "toc_window_display": false
  },
  "widgets": {
   "application/vnd.jupyter.widget-state+json": {
    "state": {},
    "version_major": 2,
    "version_minor": 0
   }
  }
 },
 "nbformat": 4,
 "nbformat_minor": 4
}
