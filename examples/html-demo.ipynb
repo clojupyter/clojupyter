{
 "cells": [
  {
   "cell_type": "markdown",
   "metadata": {},
   "source": [
    "# Clojupyter Demo"
   ]
  },
  {
   "cell_type": "markdown",
   "metadata": {},
   "source": [
    "This notebook demonstrates some of the more advanced features of Clojupyter."
   ]
  },
  {
   "cell_type": "markdown",
   "metadata": {},
   "source": [
    "## Displaying HTML"
   ]
  },
  {
   "cell_type": "markdown",
   "metadata": {},
   "source": [
    "To display HTML, you'll need to require a clojupyter helper function to change the cell output"
   ]
  },
  {
   "cell_type": "code",
   "execution_count": 1,
   "metadata": {},
   "outputs": [
    {
     "name": "stdout",
     "output_type": "stream",
     "text": [
      "Date:\t\t\tTue Feb 26 14:14:45 CET 2019\n",
      "Clojure version:\tv1.10\n"
     ]
    }
   ],
   "source": [
    "(require '[clojupyter.misc.display :as display])\n",
    ";; print some text\n",
    "(println (str \"Date:\\t\\t\\t\"(java.util.Date.)))\n",
    "(println (apply format \"Clojure version:\\tv%d.%d\" ((juxt :major :minor) *clojure-version*)));"
   ]
  },
  {
   "cell_type": "code",
   "execution_count": 2,
   "metadata": {},
   "outputs": [
    {
     "data": {
      "text/html": [
       "<ul><li>a <i>emphatic</i> idea</li><li>a <b>bold</b> idea</li><li>an <span style=\"text-decoration: underline;\">important</span> idea</li></ul>"
      ]
     },
     "execution_count": 2,
     "metadata": {},
     "output_type": "execute_result"
    }
   ],
   "source": [
    ";; displaying html\n",
    "(display/hiccup-html \n",
    "    [:ul \n",
    "     [:li \"a \" [:i \"emphatic\"] \" idea\"]\n",
    "     [:li \"a \" [:b \"bold\"] \" idea\"]\n",
    "     [:li \"an \" [:span {:style \"text-decoration: underline;\"} \"important\"] \" idea\"]])"
   ]
  },
  {
   "cell_type": "code",
   "execution_count": 3,
   "metadata": {},
   "outputs": [
    {
     "data": {
      "text/html": [
       "<svg height=\"100\" width=\"100\" xmlns=\"http://www.w3.org/2000/svg\"><circle cx=\"50\" cy=\"40\" fill=\"red\" r=\"40\"></circle></svg>"
      ]
     },
     "execution_count": 3,
     "metadata": {},
     "output_type": "execute_result"
    }
   ],
   "source": [
    "(display/hiccup-html\n",
    "    [:svg {:height 100 :width 100 :xmlns \"http://www.w3.org/2000/svg\"}\n",
    "            [:circle {:cx 50 :cy 40 :r 40 :fill \"red\"}]])"
   ]
  },
  {
   "cell_type": "markdown",
   "metadata": {},
   "source": [
    "## Adding External Clojure Dependencies"
   ]
  },
  {
   "cell_type": "markdown",
   "metadata": {},
   "source": [
    "You can fetch external Clojure dependcies using the clojupyter.misc.helper namespace."
   ]
  },
  {
   "cell_type": "code",
   "execution_count": 4,
   "metadata": {},
   "outputs": [],
   "source": [
    "(require '[clojupyter.misc.helper :as helper])\n",
    "(helper/add-dependencies '[org.clojure/data.json \"0.2.6\"])\n",
    "(require '[clojure.data.json :as json]);"
   ]
  },
  {
   "cell_type": "code",
   "execution_count": 5,
   "metadata": {},
   "outputs": [
    {
     "data": {
      "text/plain": [
       "\"{\\\"a\\\":1,\\\"b\\\":[2,3],\\\"c\\\":\\\"c\\\"}\""
      ]
     },
     "execution_count": 5,
     "metadata": {},
     "output_type": "execute_result"
    }
   ],
   "source": [
    "(json/write-str {:a 1 :b [2, 3] :c \"c\"})"
   ]
  },
  {
   "cell_type": "markdown",
   "metadata": {},
   "source": [
    "## Adding External Javascript Dependency"
   ]
  },
  {
   "cell_type": "markdown",
   "metadata": {},
   "source": [
    "Since you can render arbitrary HTML using display/hiccup-html, it's pretty easy to use external Javascript libraries to do things like generate charts. Here's an example using Highcharts."
   ]
  },
  {
   "cell_type": "markdown",
   "metadata": {},
   "source": [
    "First, we use a cell to add javascript to the running notebook:"
   ]
  },
  {
   "cell_type": "code",
   "execution_count": 6,
   "metadata": {},
   "outputs": [],
   "source": [
    "(helper/add-dependencies '[metasoarous/oz \"1.5.6\"])\n",
    "(require '[oz.notebook.clojupyter :as oz]);"
   ]
  },
  {
   "cell_type": "markdown",
   "metadata": {},
   "source": [
    "Now we define functions which takes Clojure data and converts it for use with the high-level Vega Lite graph library:"
   ]
  },
  {
   "cell_type": "code",
   "execution_count": 7,
   "metadata": {},
   "outputs": [],
   "source": [
    "(defn datapt [[s n]] {:Index s, :Value n})\n",
    "(defn graph  [vs]    {:data {:values vs}, \n",
    "                      :mark :line\n",
    "                      :encoding {:x {:field :Index}\n",
    "                                 :y {:field :Value}}})\n",
    "(def graph-it (comp graph (partial map datapt) (partial apply map vector)));"
   ]
  },
  {
   "cell_type": "markdown",
   "metadata": {},
   "source": [
    "Defining a generator for (slightly) random data..."
   ]
  },
  {
   "cell_type": "code",
   "execution_count": 8,
   "metadata": {},
   "outputs": [
    {
     "data": {
      "text/plain": [
       "#'user/raw-data"
      ]
     },
     "execution_count": 8,
     "metadata": {},
     "output_type": "execute_result"
    }
   ],
   "source": [
    "(defn raw-data [] (map #(+ % (rand-int 25)) (range)))"
   ]
  },
  {
   "cell_type": "markdown",
   "metadata": {},
   "source": [
    "...we can create a graph using Vega Lite:"
   ]
  },
  {
   "cell_type": "code",
   "execution_count": 9,
   "metadata": {},
   "outputs": [
    {
     "data": {
      "text/html": [
       "\n",
       "<div>\n",
       "  <div id='uuid-244d9dd8-3e74-48fe-a886-628ead8ef354'></div>\n",
       "  <script>\n",
       "  requirejs.config({\n",
       "    baseUrl: 'https://cdn.jsdelivr.net/npm/',\n",
       "    paths: {\n",
       "      'vega-embed':  'vega-embed@3?noext',\n",
       "      'vega-lib': 'vega-lib?noext',\n",
       "      'vega-lite': 'vega-lite@2?noext',\n",
       "      'vega': 'vega@3?noext'\n",
       "    }\n",
       "  });\n",
       "  require(['vega-embed'], function(vegaEmbed) {\n",
       "    let spec = {\"data\":{\"values\":[{\"Index\":0,\"Value\":23},{\"Index\":1,\"Value\":1},{\"Index\":2,\"Value\":26},{\"Index\":3,\"Value\":5},{\"Index\":4,\"Value\":5},{\"Index\":5,\"Value\":16},{\"Index\":6,\"Value\":21},{\"Index\":7,\"Value\":30},{\"Index\":8,\"Value\":30},{\"Index\":9,\"Value\":24},{\"Index\":10,\"Value\":30},{\"Index\":11,\"Value\":24},{\"Index\":12,\"Value\":17},{\"Index\":13,\"Value\":25},{\"Index\":14,\"Value\":31},{\"Index\":15,\"Value\":29},{\"Index\":16,\"Value\":31},{\"Index\":17,\"Value\":28},{\"Index\":18,\"Value\":36},{\"Index\":19,\"Value\":23},{\"Index\":20,\"Value\":21},{\"Index\":21,\"Value\":37},{\"Index\":22,\"Value\":38},{\"Index\":23,\"Value\":39},{\"Index\":24,\"Value\":30},{\"Index\":25,\"Value\":42},{\"Index\":26,\"Value\":50},{\"Index\":27,\"Value\":42},{\"Index\":28,\"Value\":46},{\"Index\":29,\"Value\":36},{\"Index\":30,\"Value\":48},{\"Index\":31,\"Value\":42},{\"Index\":32,\"Value\":41},{\"Index\":33,\"Value\":57},{\"Index\":34,\"Value\":55},{\"Index\":35,\"Value\":53},{\"Index\":36,\"Value\":47},{\"Index\":37,\"Value\":37},{\"Index\":38,\"Value\":57},{\"Index\":39,\"Value\":63},{\"Index\":40,\"Value\":42},{\"Index\":41,\"Value\":65},{\"Index\":42,\"Value\":47},{\"Index\":43,\"Value\":48},{\"Index\":44,\"Value\":68},{\"Index\":45,\"Value\":55},{\"Index\":46,\"Value\":56},{\"Index\":47,\"Value\":63},{\"Index\":48,\"Value\":69},{\"Index\":49,\"Value\":64},{\"Index\":50,\"Value\":74},{\"Index\":51,\"Value\":55},{\"Index\":52,\"Value\":71},{\"Index\":53,\"Value\":75},{\"Index\":54,\"Value\":75},{\"Index\":55,\"Value\":60},{\"Index\":56,\"Value\":75},{\"Index\":57,\"Value\":77},{\"Index\":58,\"Value\":79},{\"Index\":59,\"Value\":74},{\"Index\":60,\"Value\":60},{\"Index\":61,\"Value\":77},{\"Index\":62,\"Value\":64},{\"Index\":63,\"Value\":72},{\"Index\":64,\"Value\":83},{\"Index\":65,\"Value\":82},{\"Index\":66,\"Value\":72},{\"Index\":67,\"Value\":75},{\"Index\":68,\"Value\":92},{\"Index\":69,\"Value\":93},{\"Index\":70,\"Value\":92},{\"Index\":71,\"Value\":94},{\"Index\":72,\"Value\":95},{\"Index\":73,\"Value\":92},{\"Index\":74,\"Value\":94},{\"Index\":75,\"Value\":92},{\"Index\":76,\"Value\":82},{\"Index\":77,\"Value\":82},{\"Index\":78,\"Value\":80},{\"Index\":79,\"Value\":102},{\"Index\":80,\"Value\":97},{\"Index\":81,\"Value\":101},{\"Index\":82,\"Value\":105},{\"Index\":83,\"Value\":102},{\"Index\":84,\"Value\":96},{\"Index\":85,\"Value\":107},{\"Index\":86,\"Value\":91},{\"Index\":87,\"Value\":109},{\"Index\":88,\"Value\":111},{\"Index\":89,\"Value\":96},{\"Index\":90,\"Value\":99},{\"Index\":91,\"Value\":97},{\"Index\":92,\"Value\":111},{\"Index\":93,\"Value\":96},{\"Index\":94,\"Value\":114},{\"Index\":95,\"Value\":97},{\"Index\":96,\"Value\":96},{\"Index\":97,\"Value\":100},{\"Index\":98,\"Value\":102},{\"Index\":99,\"Value\":114},{\"Index\":100,\"Value\":110},{\"Index\":101,\"Value\":102},{\"Index\":102,\"Value\":119},{\"Index\":103,\"Value\":112},{\"Index\":104,\"Value\":122},{\"Index\":105,\"Value\":107},{\"Index\":106,\"Value\":118},{\"Index\":107,\"Value\":114},{\"Index\":108,\"Value\":131},{\"Index\":109,\"Value\":126},{\"Index\":110,\"Value\":113},{\"Index\":111,\"Value\":120},{\"Index\":112,\"Value\":130},{\"Index\":113,\"Value\":118},{\"Index\":114,\"Value\":115},{\"Index\":115,\"Value\":125},{\"Index\":116,\"Value\":129},{\"Index\":117,\"Value\":126},{\"Index\":118,\"Value\":134},{\"Index\":119,\"Value\":138},{\"Index\":120,\"Value\":134},{\"Index\":121,\"Value\":130},{\"Index\":122,\"Value\":138},{\"Index\":123,\"Value\":142},{\"Index\":124,\"Value\":136},{\"Index\":125,\"Value\":145},{\"Index\":126,\"Value\":147},{\"Index\":127,\"Value\":143},{\"Index\":128,\"Value\":137},{\"Index\":129,\"Value\":134},{\"Index\":130,\"Value\":132},{\"Index\":131,\"Value\":145},{\"Index\":132,\"Value\":149},{\"Index\":133,\"Value\":143},{\"Index\":134,\"Value\":150},{\"Index\":135,\"Value\":139},{\"Index\":136,\"Value\":144},{\"Index\":137,\"Value\":148},{\"Index\":138,\"Value\":138},{\"Index\":139,\"Value\":161},{\"Index\":140,\"Value\":140},{\"Index\":141,\"Value\":163},{\"Index\":142,\"Value\":156},{\"Index\":143,\"Value\":163},{\"Index\":144,\"Value\":160},{\"Index\":145,\"Value\":164},{\"Index\":146,\"Value\":164},{\"Index\":147,\"Value\":168},{\"Index\":148,\"Value\":149},{\"Index\":149,\"Value\":160}]},\"mark\":\"line\",\"encoding\":{\"x\":{\"field\":\"Index\"},\"y\":{\"field\":\"Value\"}}};\n",
       "    vegaEmbed('#uuid-244d9dd8-3e74-48fe-a886-628ead8ef354', spec, {defaultStyle:true}).catch(console.warn);\n",
       "    }, function(err) {\n",
       "    console.log('Failed to load');\n",
       "  });\n",
       "  </script>\n",
       "</div>\n",
       "  "
      ]
     },
     "execution_count": 9,
     "metadata": {},
     "output_type": "execute_result"
    }
   ],
   "source": [
    "(->> [(range) (take 150 (raw-data))]\n",
    "     graph-it\n",
    "     oz/view!)"
   ]
  },
  {
   "cell_type": "code",
   "execution_count": null,
   "metadata": {},
   "outputs": [],
   "source": []
  }
 ],
 "metadata": {
  "kernelspec": {
   "display_name": "Clojure v1.10 (clojupyter v0.1.4)",
   "language": "clojure",
   "name": "clojure-1.10-clojupyter-0.1.4"
  },
  "language_info": {
   "file_extension": ".clj",
   "mimetype": "text/x-clojure",
   "name": "clojure",
   "version": "1.10.0"
  }
 },
 "nbformat": 4,
 "nbformat_minor": 2
}
