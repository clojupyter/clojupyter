{
 "cells": [
  {
   "cell_type": "markdown",
   "metadata": {},
   "source": [
    "# Clojupyter Demo"
   ]
  },
  {
   "cell_type": "markdown",
   "metadata": {},
   "source": [
    "This notebook demonstrates some of the features of Clojupyter."
   ]
  },
  {
   "cell_type": "markdown",
   "metadata": {},
   "source": [
    "## Displaying HTML"
   ]
  },
  {
   "cell_type": "markdown",
   "metadata": {},
   "source": [
    "To display HTML, you'll need to require a clojupyter helper function to change the cell output"
   ]
  },
  {
   "cell_type": "code",
   "execution_count": 1,
   "metadata": {},
   "outputs": [
    {
     "data": {
      "text/plain": [
       "nil"
      ]
     },
     "execution_count": 1,
     "metadata": {},
     "output_type": "execute_result"
    }
   ],
   "source": [
    "(require '[clojupyter.misc.display :as display])"
   ]
  },
  {
   "cell_type": "code",
   "execution_count": 2,
   "metadata": {},
   "outputs": [
    {
     "name": "stdout",
     "output_type": "stream",
     "text": [
      ">> should print some text\n"
     ]
    },
    {
     "data": {
      "text/html": [
       "<ul><li>a <i>emphatic</i> idea</li><li>a <b>bold</b> idea</li><li>an <span style=\"text-decoration: underline;\">important</span> idea</li></ul>"
      ]
     },
     "execution_count": 2,
     "metadata": {},
     "output_type": "execute_result"
    }
   ],
   "source": [
    "(println \">> should print some text\")\n",
    ";; displaying html\n",
    "(display/hiccup-html \n",
    "    [:ul \n",
    "     [:li \"a \" [:i \"emphatic\"] \" idea\"]\n",
    "     [:li \"a \" [:b \"bold\"] \" idea\"]\n",
    "     [:li \"an \" [:span {:style \"text-decoration: underline;\"} \"important\"] \" idea\"]])"
   ]
  },
  {
   "cell_type": "code",
   "execution_count": 3,
   "metadata": {},
   "outputs": [
    {
     "data": {
      "text/html": [
       "<svg height=\"100\" width=\"100\" xmlns=\"http://www.w3.org/2000/svg\"><circle cx=\"50\" cy=\"40\" fill=\"red\" r=\"40\"></circle></svg>"
      ]
     },
     "execution_count": 3,
     "metadata": {},
     "output_type": "execute_result"
    }
   ],
   "source": [
    "(display/hiccup-html\n",
    "    [:svg {:height 100 :width 100 :xmlns \"http://www.w3.org/2000/svg\"}\n",
    "            [:circle {:cx 50 :cy 40 :r 40 :fill \"red\"}]])"
   ]
  },
  {
   "cell_type": "markdown",
   "metadata": {},
   "source": [
    "## Adding external dependencies"
   ]
  },
  {
   "cell_type": "markdown",
   "metadata": {},
   "source": [
    "You can fetch external Clojure dependcies using the `clojupyter.misc.helper namespace`."
   ]
  },
  {
   "cell_type": "code",
   "execution_count": 4,
   "metadata": {},
   "outputs": [],
   "source": [
    "(require '[clojupyter.misc.helper :as helper])\n",
    "(helper/add-dependencies '[org.clojure/data.json \"0.2.6\"])\n",
    "(require '[clojure.data.json :as json]);"
   ]
  },
  {
   "cell_type": "code",
   "execution_count": 5,
   "metadata": {},
   "outputs": [
    {
     "data": {
      "text/plain": [
       "\"{\\\"a\\\":1,\\\"b\\\":[2,3],\\\"c\\\":\\\"c\\\"}\""
      ]
     },
     "execution_count": 5,
     "metadata": {},
     "output_type": "execute_result"
    }
   ],
   "source": [
    "(json/write-str {:a 1 :b [2, 3] :c \"c\"})"
   ]
  },
  {
   "cell_type": "markdown",
   "metadata": {},
   "source": [
    "### Plotting using Vega Lite"
   ]
  },
  {
   "cell_type": "markdown",
   "metadata": {},
   "source": [
    "Let's load [Oz](https://github.com/metasoarous/oz), which provides access from Clojure to the facilities provided by the high-level [Vega Lite](https://vega.github.io/vega-lite/) plotting library which uses Javascript technology:"
   ]
  },
  {
   "cell_type": "code",
   "execution_count": 6,
   "metadata": {},
   "outputs": [],
   "source": [
    "(helper/add-dependencies '[metasoarous/oz \"1.5.6\"])\n",
    "(require '[oz.notebook.clojupyter :as oz]);"
   ]
  },
  {
   "cell_type": "markdown",
   "metadata": {},
   "source": [
    "Now we can define a couple of functions taking Clojure data and presenting it as a graph:"
   ]
  },
  {
   "cell_type": "code",
   "execution_count": 7,
   "metadata": {},
   "outputs": [
    {
     "data": {
      "text/plain": [
       "#'user/graph-it"
      ]
     },
     "execution_count": 7,
     "metadata": {},
     "output_type": "execute_result"
    }
   ],
   "source": [
    "(defn datapt [[s n]] {:Index s, :Value n})\n",
    "(defn graph  [vs]    {:data {:values vs}, \n",
    "                      :mark :line\n",
    "                      :encoding {:x {:field :Index}\n",
    "                                 :y {:field :Value}}})\n",
    "(def graph-it (comp graph (partial map datapt) (partial apply map vector)))"
   ]
  },
  {
   "cell_type": "markdown",
   "metadata": {},
   "source": [
    "Defining a generator for (slightly) random data..."
   ]
  },
  {
   "cell_type": "code",
   "execution_count": 8,
   "metadata": {},
   "outputs": [
    {
     "data": {
      "text/plain": [
       "#'user/raw-data"
      ]
     },
     "execution_count": 8,
     "metadata": {},
     "output_type": "execute_result"
    }
   ],
   "source": [
    "(defn raw-data [] (map #(+ % (rand-int 25)) (range)))"
   ]
  },
  {
   "cell_type": "markdown",
   "metadata": {},
   "source": [
    "...we can create a graph using Vega Lite:"
   ]
  },
  {
   "cell_type": "code",
   "execution_count": 9,
   "metadata": {},
   "outputs": [
    {
     "data": {
      "text/html": [
       "\n",
       "<div>\n",
       "  <div id='uuid-1b1f4290-5b99-4554-8051-502d5b6d8388'></div>\n",
       "  <script>\n",
       "  requirejs.config({\n",
       "    baseUrl: 'https://cdn.jsdelivr.net/npm/',\n",
       "    paths: {\n",
       "      'vega-embed':  'vega-embed@3?noext',\n",
       "      'vega-lib': 'vega-lib?noext',\n",
       "      'vega-lite': 'vega-lite@2?noext',\n",
       "      'vega': 'vega@3?noext'\n",
       "    }\n",
       "  });\n",
       "  require(['vega-embed'], function(vegaEmbed) {\n",
       "    let spec = {\"data\":{\"values\":[{\"Index\":0,\"Value\":12},{\"Index\":1,\"Value\":15},{\"Index\":2,\"Value\":19},{\"Index\":3,\"Value\":3},{\"Index\":4,\"Value\":19},{\"Index\":5,\"Value\":19},{\"Index\":6,\"Value\":30},{\"Index\":7,\"Value\":10},{\"Index\":8,\"Value\":13},{\"Index\":9,\"Value\":11},{\"Index\":10,\"Value\":10},{\"Index\":11,\"Value\":15},{\"Index\":12,\"Value\":14},{\"Index\":13,\"Value\":25},{\"Index\":14,\"Value\":26},{\"Index\":15,\"Value\":26},{\"Index\":16,\"Value\":36},{\"Index\":17,\"Value\":19},{\"Index\":18,\"Value\":22},{\"Index\":19,\"Value\":19},{\"Index\":20,\"Value\":41},{\"Index\":21,\"Value\":36},{\"Index\":22,\"Value\":25},{\"Index\":23,\"Value\":23},{\"Index\":24,\"Value\":25},{\"Index\":25,\"Value\":46},{\"Index\":26,\"Value\":31},{\"Index\":27,\"Value\":35},{\"Index\":28,\"Value\":35},{\"Index\":29,\"Value\":51},{\"Index\":30,\"Value\":45},{\"Index\":31,\"Value\":33},{\"Index\":32,\"Value\":39},{\"Index\":33,\"Value\":39},{\"Index\":34,\"Value\":45},{\"Index\":35,\"Value\":36},{\"Index\":36,\"Value\":53},{\"Index\":37,\"Value\":42},{\"Index\":38,\"Value\":54},{\"Index\":39,\"Value\":45},{\"Index\":40,\"Value\":57},{\"Index\":41,\"Value\":43},{\"Index\":42,\"Value\":66},{\"Index\":43,\"Value\":49},{\"Index\":44,\"Value\":47},{\"Index\":45,\"Value\":47},{\"Index\":46,\"Value\":51},{\"Index\":47,\"Value\":71},{\"Index\":48,\"Value\":59},{\"Index\":49,\"Value\":61},{\"Index\":50,\"Value\":55},{\"Index\":51,\"Value\":67},{\"Index\":52,\"Value\":59},{\"Index\":53,\"Value\":54},{\"Index\":54,\"Value\":64},{\"Index\":55,\"Value\":77},{\"Index\":56,\"Value\":76},{\"Index\":57,\"Value\":77},{\"Index\":58,\"Value\":59},{\"Index\":59,\"Value\":62},{\"Index\":60,\"Value\":72},{\"Index\":61,\"Value\":77},{\"Index\":62,\"Value\":64},{\"Index\":63,\"Value\":65},{\"Index\":64,\"Value\":70},{\"Index\":65,\"Value\":65},{\"Index\":66,\"Value\":85},{\"Index\":67,\"Value\":90},{\"Index\":68,\"Value\":70},{\"Index\":69,\"Value\":87},{\"Index\":70,\"Value\":74},{\"Index\":71,\"Value\":86},{\"Index\":72,\"Value\":87},{\"Index\":73,\"Value\":83},{\"Index\":74,\"Value\":93},{\"Index\":75,\"Value\":76},{\"Index\":76,\"Value\":89},{\"Index\":77,\"Value\":78},{\"Index\":78,\"Value\":102},{\"Index\":79,\"Value\":83},{\"Index\":80,\"Value\":104},{\"Index\":81,\"Value\":105},{\"Index\":82,\"Value\":93},{\"Index\":83,\"Value\":97},{\"Index\":84,\"Value\":94},{\"Index\":85,\"Value\":86},{\"Index\":86,\"Value\":87},{\"Index\":87,\"Value\":103},{\"Index\":88,\"Value\":98},{\"Index\":89,\"Value\":112},{\"Index\":90,\"Value\":96},{\"Index\":91,\"Value\":97},{\"Index\":92,\"Value\":110},{\"Index\":93,\"Value\":117},{\"Index\":94,\"Value\":113},{\"Index\":95,\"Value\":104},{\"Index\":96,\"Value\":116},{\"Index\":97,\"Value\":111},{\"Index\":98,\"Value\":112},{\"Index\":99,\"Value\":115},{\"Index\":100,\"Value\":109},{\"Index\":101,\"Value\":122},{\"Index\":102,\"Value\":123},{\"Index\":103,\"Value\":119},{\"Index\":104,\"Value\":106},{\"Index\":105,\"Value\":119},{\"Index\":106,\"Value\":118},{\"Index\":107,\"Value\":108},{\"Index\":108,\"Value\":121},{\"Index\":109,\"Value\":125},{\"Index\":110,\"Value\":112},{\"Index\":111,\"Value\":112},{\"Index\":112,\"Value\":128},{\"Index\":113,\"Value\":119},{\"Index\":114,\"Value\":130},{\"Index\":115,\"Value\":134},{\"Index\":116,\"Value\":116},{\"Index\":117,\"Value\":134},{\"Index\":118,\"Value\":127},{\"Index\":119,\"Value\":119},{\"Index\":120,\"Value\":136},{\"Index\":121,\"Value\":127},{\"Index\":122,\"Value\":138},{\"Index\":123,\"Value\":147},{\"Index\":124,\"Value\":140},{\"Index\":125,\"Value\":126},{\"Index\":126,\"Value\":145},{\"Index\":127,\"Value\":132},{\"Index\":128,\"Value\":141},{\"Index\":129,\"Value\":129},{\"Index\":130,\"Value\":134},{\"Index\":131,\"Value\":136},{\"Index\":132,\"Value\":140},{\"Index\":133,\"Value\":133},{\"Index\":134,\"Value\":158},{\"Index\":135,\"Value\":136},{\"Index\":136,\"Value\":136},{\"Index\":137,\"Value\":159},{\"Index\":138,\"Value\":146},{\"Index\":139,\"Value\":139},{\"Index\":140,\"Value\":148},{\"Index\":141,\"Value\":165},{\"Index\":142,\"Value\":145},{\"Index\":143,\"Value\":144},{\"Index\":144,\"Value\":165},{\"Index\":145,\"Value\":153},{\"Index\":146,\"Value\":161},{\"Index\":147,\"Value\":169},{\"Index\":148,\"Value\":159},{\"Index\":149,\"Value\":170}]},\"mark\":\"line\",\"encoding\":{\"x\":{\"field\":\"Index\"},\"y\":{\"field\":\"Value\"}}};\n",
       "    vegaEmbed('#uuid-1b1f4290-5b99-4554-8051-502d5b6d8388', spec, {defaultStyle:true}).catch(console.warn);\n",
       "    }, function(err) {\n",
       "    console.log('Failed to load');\n",
       "  });\n",
       "  </script>\n",
       "</div>\n",
       "  "
      ]
     },
     "execution_count": 9,
     "metadata": {},
     "output_type": "execute_result"
    }
   ],
   "source": [
    "(->> [(range) (take 150 (raw-data))]\n",
    "     graph-it\n",
    "     oz/view!)"
   ]
  }
 ],
 "metadata": {
  "kernelspec": {
   "display_name": "Clojure v1.10 (clojupyter v0.1.4)",
   "language": "clojure",
   "name": "clojure-1.10-clojupyter-0.1.4"
  },
  "language_info": {
   "file_extension": ".clj",
   "mimetype": "text/x-clojure",
   "name": "clojure",
   "version": "1.10.0"
  }
 },
 "nbformat": 4,
 "nbformat_minor": 2
}
